{
 "cells": [
  {
   "cell_type": "markdown",
   "id": "14f2606a-7e22-4ec9-9192-b76155b9d9e6",
   "metadata": {},
   "source": [
    "# Exploring California's Water Systems "
   ]
  },
  {
   "cell_type": "markdown",
   "id": "5d5bf2ba-5623-434b-9f1c-9b2d3490d456",
   "metadata": {},
   "source": [
    "This notebook uses basic data-exploration commands to get a better understanding of a dataset curated by the California State Water Resources Control Board (SWRCB) that outlines the boundaries of drinking water systems."
   ]
  },
  {
   "cell_type": "markdown",
   "id": "7e32809c-3083-444e-827a-854d8ab5cca4",
   "metadata": {},
   "source": [
    "## 1. Importing the data"
   ]
  },
  {
   "cell_type": "markdown",
   "id": "38a19137-6f28-435c-929b-a39ecb5c22d8",
   "metadata": {},
   "source": [
    "The first code cell imports the pandas and geopandas modules."
   ]
  },
  {
   "cell_type": "code",
   "execution_count": 2,
   "id": "90c9bcce-32a4-4023-bf16-6a8feec39317",
   "metadata": {},
   "outputs": [],
   "source": [
    "# as in the lab, this will allow me to reference these libraries with abbrev's\n",
    "import pandas as pd\n",
    "import geopandas as gpd"
   ]
  },
  {
   "cell_type": "markdown",
   "id": "2aa99866-cf95-4115-b197-070bb04f46ca",
   "metadata": {},
   "source": [
    "With those modules imported, I can now import my dataset."
   ]
  },
  {
   "cell_type": "code",
   "execution_count": 3,
   "id": "bc2e60e6-17cf-4450-8ee7-1dec131d801e",
   "metadata": {},
   "outputs": [],
   "source": [
    "water_systems = gpd.read_file('California_Drinking_Water_System_Area_Boundaries.zip')"
   ]
  },
  {
   "cell_type": "markdown",
   "id": "030736e8-a5f1-4851-afa7-b56a4c87537a",
   "metadata": {},
   "source": [
    "## 2. Exploring the data"
   ]
  },
  {
   "cell_type": "markdown",
   "id": "83a428f3-cd83-4851-91eb-378df11de82d",
   "metadata": {},
   "source": [
    "With the dataset imported, I can now *explore* the dataset. The first thing I'm going to check is the basic \"shape\" of the dataset, i.e., how many rows and columns it has. "
   ]
  },
  {
   "cell_type": "code",
   "execution_count": 4,
   "id": "b4dfc225-188a-49f0-9885-613ba5f9f5ee",
   "metadata": {},
   "outputs": [
    {
     "data": {
      "text/plain": [
       "(4808, 35)"
      ]
     },
     "execution_count": 4,
     "metadata": {},
     "output_type": "execute_result"
    }
   ],
   "source": [
    "water_systems.shape"
   ]
  },
  {
   "cell_type": "markdown",
   "id": "a5cc54bc-01cb-4dc3-9fa0-df911df62fc0",
   "metadata": {},
   "source": [
    "Look at that! Lots of rows, few columns. I'm guessing each row represents a water system; already we're beginning to learn something about how fragmented water provision is in California (and the US). "
   ]
  },
  {
   "cell_type": "markdown",
   "id": "b6db6d54-9f82-49e3-afd9-70bf5cf91932",
   "metadata": {},
   "source": [
    "I also want to get a general sense of what the dataset looks like. "
   ]
  },
  {
   "cell_type": "code",
   "execution_count": 11,
   "id": "514adb16-59f9-4dad-a38a-81cbcee3d52f",
   "metadata": {},
   "outputs": [
    {
     "data": {
      "text/html": [
       "<div>\n",
       "<style scoped>\n",
       "    .dataframe tbody tr th:only-of-type {\n",
       "        vertical-align: middle;\n",
       "    }\n",
       "\n",
       "    .dataframe tbody tr th {\n",
       "        vertical-align: top;\n",
       "    }\n",
       "\n",
       "    .dataframe thead th {\n",
       "        text-align: right;\n",
       "    }\n",
       "</style>\n",
       "<table border=\"1\" class=\"dataframe\">\n",
       "  <thead>\n",
       "    <tr style=\"text-align: right;\">\n",
       "      <th></th>\n",
       "      <th>OBJECTID_1</th>\n",
       "      <th>SABL_PWSID</th>\n",
       "      <th>BOUNDARY_T</th>\n",
       "      <th>WATER_SYST</th>\n",
       "      <th>WATER_SY_1</th>\n",
       "      <th>CREATED_US</th>\n",
       "      <th>CREATED_DA</th>\n",
       "      <th>LAST_EDITE</th>\n",
       "      <th>LAST_EDI_1</th>\n",
       "      <th>OBJECTID</th>\n",
       "      <th>...</th>\n",
       "      <th>AC_PHONE_N</th>\n",
       "      <th>AC_EMAIL</th>\n",
       "      <th>BOUNDARY_F</th>\n",
       "      <th>DT_VERIFIE</th>\n",
       "      <th>VERIFIED_S</th>\n",
       "      <th>VERIFIED_N</th>\n",
       "      <th>VERIFIED_T</th>\n",
       "      <th>Shape__Are</th>\n",
       "      <th>Shape__Len</th>\n",
       "      <th>geometry</th>\n",
       "    </tr>\n",
       "  </thead>\n",
       "  <tbody>\n",
       "    <tr>\n",
       "      <th>0</th>\n",
       "      <td>2853275</td>\n",
       "      <td>CA1100445</td>\n",
       "      <td>Water Service Area</td>\n",
       "      <td>CA1100445</td>\n",
       "      <td>ORLAND MOBILE H.P.</td>\n",
       "      <td>SBUCKNAM</td>\n",
       "      <td>2020-10-20</td>\n",
       "      <td>SBUCKNAM</td>\n",
       "      <td>2020-10-20</td>\n",
       "      <td>133</td>\n",
       "      <td>...</td>\n",
       "      <td>916-813-3158</td>\n",
       "      <td>karbuckle3186@hotmail.com</td>\n",
       "      <td>WBT Tool</td>\n",
       "      <td>NaT</td>\n",
       "      <td>Not Verified</td>\n",
       "      <td>None</td>\n",
       "      <td>None</td>\n",
       "      <td>3.657664e+04</td>\n",
       "      <td>790.599915</td>\n",
       "      <td>POLYGON ((-13603160.512 4827465.619, -13603156...</td>\n",
       "    </tr>\n",
       "    <tr>\n",
       "      <th>1</th>\n",
       "      <td>2853276</td>\n",
       "      <td>CA3200054</td>\n",
       "      <td>Water Service Area</td>\n",
       "      <td>CA3200054</td>\n",
       "      <td>BIG MEADOWS SUBDIVISION</td>\n",
       "      <td>SBUCKNAM</td>\n",
       "      <td>2020-10-20</td>\n",
       "      <td>SBUCKNAM</td>\n",
       "      <td>2020-10-20</td>\n",
       "      <td>134</td>\n",
       "      <td>...</td>\n",
       "      <td>530-518-4956</td>\n",
       "      <td>None</td>\n",
       "      <td>WBT Tool</td>\n",
       "      <td>NaT</td>\n",
       "      <td>Not Verified</td>\n",
       "      <td>None</td>\n",
       "      <td>None</td>\n",
       "      <td>3.306788e+05</td>\n",
       "      <td>2164.953699</td>\n",
       "      <td>POLYGON ((-13483560.663 4893674.133, -13483495...</td>\n",
       "    </tr>\n",
       "    <tr>\n",
       "      <th>2</th>\n",
       "      <td>2853277</td>\n",
       "      <td>CA5201140</td>\n",
       "      <td>Water Service Area</td>\n",
       "      <td>CA5201140</td>\n",
       "      <td>ANTOINETTE MUTUAL WATER CO</td>\n",
       "      <td>SBUCKNAM</td>\n",
       "      <td>2020-10-20</td>\n",
       "      <td>SBUCKNAM</td>\n",
       "      <td>2020-10-20</td>\n",
       "      <td>135</td>\n",
       "      <td>...</td>\n",
       "      <td>530-736-2321</td>\n",
       "      <td>asanders6677@gmail.com</td>\n",
       "      <td>WBT Tool</td>\n",
       "      <td>NaT</td>\n",
       "      <td>Not Verified</td>\n",
       "      <td>None</td>\n",
       "      <td>None</td>\n",
       "      <td>8.479025e+04</td>\n",
       "      <td>1169.718166</td>\n",
       "      <td>POLYGON ((-13604267.496 4894056.27, -13603943....</td>\n",
       "    </tr>\n",
       "    <tr>\n",
       "      <th>3</th>\n",
       "      <td>2853278</td>\n",
       "      <td>CA1910234</td>\n",
       "      <td>Water Service Area</td>\n",
       "      <td>CA1910234</td>\n",
       "      <td>WALNUT VALLEY WATER DISTRICT</td>\n",
       "      <td>SBUCKNAM</td>\n",
       "      <td>2020-10-20</td>\n",
       "      <td>epa\\gisservice</td>\n",
       "      <td>2023-10-05</td>\n",
       "      <td>136</td>\n",
       "      <td>...</td>\n",
       "      <td>909-595-1268</td>\n",
       "      <td>sshaw@walnutvalleywater.gov</td>\n",
       "      <td>WBT Tool</td>\n",
       "      <td>2023-10-04</td>\n",
       "      <td>Verified</td>\n",
       "      <td>E. Hitchman</td>\n",
       "      <td>Water System representative</td>\n",
       "      <td>1.152054e+08</td>\n",
       "      <td>60654.891858</td>\n",
       "      <td>POLYGON ((-13113973.689 4036397.839, -13113942...</td>\n",
       "    </tr>\n",
       "    <tr>\n",
       "      <th>4</th>\n",
       "      <td>2853279</td>\n",
       "      <td>CA3710047</td>\n",
       "      <td>Water Service Area</td>\n",
       "      <td>CA3710047</td>\n",
       "      <td>CAMPO HILLS-COUNTY PUBLIC WORKS WASTEWTR</td>\n",
       "      <td>SBUCKNAM</td>\n",
       "      <td>2020-10-20</td>\n",
       "      <td>SBUCKNAM</td>\n",
       "      <td>2020-10-20</td>\n",
       "      <td>138</td>\n",
       "      <td>...</td>\n",
       "      <td>619-660-2008</td>\n",
       "      <td>mike.bedard@sdcounty.ca.gov</td>\n",
       "      <td>WBT Tool</td>\n",
       "      <td>NaT</td>\n",
       "      <td>Not Verified</td>\n",
       "      <td>None</td>\n",
       "      <td>None</td>\n",
       "      <td>2.536636e+06</td>\n",
       "      <td>11756.255414</td>\n",
       "      <td>POLYGON ((-12965058.179 3842950.716, -12964570...</td>\n",
       "    </tr>\n",
       "  </tbody>\n",
       "</table>\n",
       "<p>5 rows × 35 columns</p>\n",
       "</div>"
      ],
      "text/plain": [
       "   OBJECTID_1 SABL_PWSID          BOUNDARY_T WATER_SYST  \\\n",
       "0     2853275  CA1100445  Water Service Area  CA1100445   \n",
       "1     2853276  CA3200054  Water Service Area  CA3200054   \n",
       "2     2853277  CA5201140  Water Service Area  CA5201140   \n",
       "3     2853278  CA1910234  Water Service Area  CA1910234   \n",
       "4     2853279  CA3710047  Water Service Area  CA3710047   \n",
       "\n",
       "                                 WATER_SY_1 CREATED_US CREATED_DA  \\\n",
       "0                        ORLAND MOBILE H.P.   SBUCKNAM 2020-10-20   \n",
       "1                   BIG MEADOWS SUBDIVISION   SBUCKNAM 2020-10-20   \n",
       "2                ANTOINETTE MUTUAL WATER CO   SBUCKNAM 2020-10-20   \n",
       "3              WALNUT VALLEY WATER DISTRICT   SBUCKNAM 2020-10-20   \n",
       "4  CAMPO HILLS-COUNTY PUBLIC WORKS WASTEWTR   SBUCKNAM 2020-10-20   \n",
       "\n",
       "       LAST_EDITE LAST_EDI_1  OBJECTID  ...    AC_PHONE_N  \\\n",
       "0        SBUCKNAM 2020-10-20       133  ...  916-813-3158   \n",
       "1        SBUCKNAM 2020-10-20       134  ...  530-518-4956   \n",
       "2        SBUCKNAM 2020-10-20       135  ...  530-736-2321   \n",
       "3  epa\\gisservice 2023-10-05       136  ...  909-595-1268   \n",
       "4        SBUCKNAM 2020-10-20       138  ...  619-660-2008   \n",
       "\n",
       "                      AC_EMAIL BOUNDARY_F DT_VERIFIE    VERIFIED_S  \\\n",
       "0    karbuckle3186@hotmail.com   WBT Tool        NaT  Not Verified   \n",
       "1                         None   WBT Tool        NaT  Not Verified   \n",
       "2       asanders6677@gmail.com   WBT Tool        NaT  Not Verified   \n",
       "3  sshaw@walnutvalleywater.gov   WBT Tool 2023-10-04      Verified   \n",
       "4  mike.bedard@sdcounty.ca.gov   WBT Tool        NaT  Not Verified   \n",
       "\n",
       "    VERIFIED_N                   VERIFIED_T    Shape__Are    Shape__Len  \\\n",
       "0         None                         None  3.657664e+04    790.599915   \n",
       "1         None                         None  3.306788e+05   2164.953699   \n",
       "2         None                         None  8.479025e+04   1169.718166   \n",
       "3  E. Hitchman  Water System representative  1.152054e+08  60654.891858   \n",
       "4         None                         None  2.536636e+06  11756.255414   \n",
       "\n",
       "                                            geometry  \n",
       "0  POLYGON ((-13603160.512 4827465.619, -13603156...  \n",
       "1  POLYGON ((-13483560.663 4893674.133, -13483495...  \n",
       "2  POLYGON ((-13604267.496 4894056.27, -13603943....  \n",
       "3  POLYGON ((-13113973.689 4036397.839, -13113942...  \n",
       "4  POLYGON ((-12965058.179 3842950.716, -12964570...  \n",
       "\n",
       "[5 rows x 35 columns]"
      ]
     },
     "execution_count": 11,
     "metadata": {},
     "output_type": "execute_result"
    }
   ],
   "source": [
    "# this command shows me the first five rows\n",
    "water_systems.head()"
   ]
  },
  {
   "cell_type": "markdown",
   "id": "fcd1db4d-c20d-467f-bc19-4a38da89a8e3",
   "metadata": {},
   "source": [
    "I'd also like to see the metadata, mess that it may be. "
   ]
  },
  {
   "cell_type": "code",
   "execution_count": 12,
   "id": "00feb42d-da53-40b8-bd9a-0cea5b495ca0",
   "metadata": {},
   "outputs": [
    {
     "data": {
      "text/plain": [
       "<bound method DataFrame.info of       OBJECTID_1 SABL_PWSID          BOUNDARY_T WATER_SYST  \\\n",
       "0        2853275  CA1100445  Water Service Area  CA1100445   \n",
       "1        2853276  CA3200054  Water Service Area  CA3200054   \n",
       "2        2853277  CA5201140  Water Service Area  CA5201140   \n",
       "3        2853278  CA1910234  Water Service Area  CA1910234   \n",
       "4        2853279  CA3710047  Water Service Area  CA3710047   \n",
       "...          ...        ...                 ...        ...   \n",
       "4803     2864906  CA3510002  Water Service Area  CA3510002   \n",
       "4804     2864907  CA3900602  Water Service Area  CA3900602   \n",
       "4805     2864908  CA1503384  Water Service Area  CA1503384   \n",
       "4806     2864909  CA1503657  Water Service Area  CA1503657   \n",
       "4807     2864910  CA1510051  Water Service Area  CA1510051   \n",
       "\n",
       "                                    WATER_SY_1      CREATED_US CREATED_DA  \\\n",
       "0                           ORLAND MOBILE H.P.        SBUCKNAM 2020-10-20   \n",
       "1                      BIG MEADOWS SUBDIVISION        SBUCKNAM 2020-10-20   \n",
       "2                   ANTOINETTE MUTUAL WATER CO        SBUCKNAM 2020-10-20   \n",
       "3                 WALNUT VALLEY WATER DISTRICT        SBUCKNAM 2020-10-20   \n",
       "4     CAMPO HILLS-COUNTY PUBLIC WORKS WASTEWTR        SBUCKNAM 2020-10-20   \n",
       "...                                        ...             ...        ...   \n",
       "4803                SAN JUAN BAUTISTA, CITY OF  EPA\\GISService 2024-05-24   \n",
       "4804           TAHAMA VILLAGE MOBILE HOME PARK  EPA\\GISService 2024-05-24   \n",
       "4805    SOUTH VALLEY FARMS-BEECH HULLER/OFFICE  EPA\\GISService 2024-05-24   \n",
       "4806                   KIMBERLINA HOUSING UNIT  EPA\\GISService 2024-05-24   \n",
       "4807               LEBEC COUNTY WATER DISTRICT  EPA\\GISService 2024-05-24   \n",
       "\n",
       "          LAST_EDITE LAST_EDI_1  OBJECTID  ...    AC_PHONE_N  \\\n",
       "0           SBUCKNAM 2020-10-20       133  ...  916-813-3158   \n",
       "1           SBUCKNAM 2020-10-20       134  ...  530-518-4956   \n",
       "2           SBUCKNAM 2020-10-20       135  ...  530-736-2321   \n",
       "3     epa\\gisservice 2023-10-05       136  ...  909-595-1268   \n",
       "4           SBUCKNAM 2020-10-20       138  ...  619-660-2008   \n",
       "...              ...        ...       ...  ...           ...   \n",
       "4803  EPA\\GISService 2024-05-24     34282  ...  831-623-4661   \n",
       "4804  EPA\\GISService 2024-05-24     34283  ...  209-568-3765   \n",
       "4805  EPA\\GISService 2024-05-24     34285  ...  661-391-9000   \n",
       "4806  EPA\\GISService 2024-05-24     34286  ...  661-391-9000   \n",
       "4807  EPA\\GISService 2024-05-24     34287  ...  661-248-6872   \n",
       "\n",
       "                                 AC_EMAIL BOUNDARY_F DT_VERIFIE    VERIFIED_S  \\\n",
       "0               karbuckle3186@hotmail.com   WBT Tool        NaT  Not Verified   \n",
       "1                                    None   WBT Tool        NaT  Not Verified   \n",
       "2                  asanders6677@gmail.com   WBT Tool        NaT  Not Verified   \n",
       "3             sshaw@walnutvalleywater.gov   WBT Tool 2023-10-04      Verified   \n",
       "4             mike.bedard@sdcounty.ca.gov   WBT Tool        NaT  Not Verified   \n",
       "...                                   ...        ...        ...           ...   \n",
       "4803  citymanager@san-juan-bautista.ca.us  Shapefile 2024-05-23      Verified   \n",
       "4804    1unitypropertysolutions@gmail.com  Shapefile 2024-05-23      Verified   \n",
       "4805                jjohnston@svfnuts.com  Shapefile 2024-05-23      Verified   \n",
       "4806                jjohnston@svfnuts.com  Shapefile 2024-05-23      Verified   \n",
       "4807                   lebecwater@att.net  Shapefile 2024-05-23      Verified   \n",
       "\n",
       "        VERIFIED_N                   VERIFIED_T    Shape__Are    Shape__Len  \\\n",
       "0             None                         None  3.657664e+04    790.599915   \n",
       "1             None                         None  3.306788e+05   2164.953699   \n",
       "2             None                         None  8.479025e+04   1169.718166   \n",
       "3      E. Hitchman  Water System representative  1.152054e+08  60654.891858   \n",
       "4             None                         None  2.536636e+06  11756.255414   \n",
       "...            ...                          ...           ...           ...   \n",
       "4803  J. Weininger  District / LPA staff member  5.503382e+06  18981.763509   \n",
       "4804       J. Bird  District / LPA staff member  5.874319e+04   1037.824422   \n",
       "4805     T. Turley  Water System representative  1.994422e+05   1882.679463   \n",
       "4806       J. Bird     State Board staff member  3.091315e+04    708.417042   \n",
       "4807       J. Bird     State Board staff member  9.726373e+06  16104.501673   \n",
       "\n",
       "                                               geometry  \n",
       "0     POLYGON ((-13603160.512 4827465.619, -13603156...  \n",
       "1     POLYGON ((-13483560.663 4893674.133, -13483495...  \n",
       "2     POLYGON ((-13604267.496 4894056.27, -13603943....  \n",
       "3     POLYGON ((-13113973.689 4036397.839, -13113942...  \n",
       "4     POLYGON ((-12965058.179 3842950.716, -12964570...  \n",
       "...                                                 ...  \n",
       "4803  POLYGON ((-13530358.076 4418815.782, -13530312...  \n",
       "4804  POLYGON ((-13498387.839 4587318.224, -13498319...  \n",
       "4805  POLYGON ((-13275885.562 4244981.589, -13275886...  \n",
       "4806  POLYGON ((-13272189.785 4238205.097, -13271990...  \n",
       "4807  POLYGON ((-13232790.008 4143135.24, -13232717....  \n",
       "\n",
       "[4808 rows x 35 columns]>"
      ]
     },
     "execution_count": 12,
     "metadata": {},
     "output_type": "execute_result"
    }
   ],
   "source": [
    "water_systems.info"
   ]
  },
  {
   "cell_type": "markdown",
   "id": "b52f6154-46cf-4c8c-87f6-8d28c02eb663",
   "metadata": {},
   "source": [
    "This is not the most helpful, all this info. The next few code blocks will explore the dataset in a more focused manner. In this first one, I'll display the dataset's columns in a somewhat more readable format."
   ]
  },
  {
   "cell_type": "code",
   "execution_count": 6,
   "id": "7445697f-c7d5-4bc6-a18e-003df7165fd2",
   "metadata": {},
   "outputs": [
    {
     "data": {
      "text/plain": [
       "['OBJECTID_1',\n",
       " 'SABL_PWSID',\n",
       " 'BOUNDARY_T',\n",
       " 'WATER_SYST',\n",
       " 'WATER_SY_1',\n",
       " 'CREATED_US',\n",
       " 'CREATED_DA',\n",
       " 'LAST_EDITE',\n",
       " 'LAST_EDI_1',\n",
       " 'OBJECTID',\n",
       " 'ACTIVITY_S',\n",
       " 'ACTIVITY_D',\n",
       " 'OWNER_TYPE',\n",
       " 'COUNTY',\n",
       " 'POPULATION',\n",
       " 'REGULATING',\n",
       " 'FEDERAL_CL',\n",
       " 'STATE_CLAS',\n",
       " 'ADDR_LINE_',\n",
       " 'ADDR_LIN_1',\n",
       " 'ADDRESS_CI',\n",
       " 'ADDRESS_ST',\n",
       " 'ADDRESS_ZI',\n",
       " 'SERVICE_CO',\n",
       " 'GLOBALID',\n",
       " 'AC_PHONE_N',\n",
       " 'AC_EMAIL',\n",
       " 'BOUNDARY_F',\n",
       " 'DT_VERIFIE',\n",
       " 'VERIFIED_S',\n",
       " 'VERIFIED_N',\n",
       " 'VERIFIED_T',\n",
       " 'Shape__Are',\n",
       " 'Shape__Len',\n",
       " 'geometry']"
      ]
     },
     "execution_count": 6,
     "metadata": {},
     "output_type": "execute_result"
    }
   ],
   "source": [
    "# this command converts the columns in the dataset into a list \n",
    "water_systems.columns.to_list()"
   ]
  },
  {
   "cell_type": "markdown",
   "id": "4f67ec3b-4ee1-4fe7-8828-94d167bd5593",
   "metadata": {},
   "source": [
    "In addition to spatial info, this dataset contains info about water systems' contacts and regulatory status."
   ]
  },
  {
   "cell_type": "markdown",
   "id": "4f8c3987-0c48-4b57-9533-7fd58cfa462b",
   "metadata": {},
   "source": [
    "The next three code boxes render a quick view of the columns I *think* I'm interested in. "
   ]
  },
  {
   "cell_type": "code",
   "execution_count": 7,
   "id": "6a2c7dee-4d35-42f0-82d0-a8dd9034d790",
   "metadata": {},
   "outputs": [
    {
     "data": {
      "text/plain": [
       "981        DISTRICT 05 - MONTEREY\n",
       "3731        DISTRICT 01 - KLAMATH\n",
       "2360      DISTRICT 19 - TEHACHAPI\n",
       "1172    LPA80 - STANISLAUS COUNTY\n",
       "1310        DISTRICT 12 - VISALIA\n",
       "Name: REGULATING, dtype: object"
      ]
     },
     "execution_count": 7,
     "metadata": {},
     "output_type": "execute_result"
    }
   ],
   "source": [
    "# REGULATING stands for regulatory agency in charge of the water system\n",
    "water_systems.REGULATING.sample(5)"
   ]
  },
  {
   "cell_type": "code",
   "execution_count": 8,
   "id": "c00c5276-1450-4828-b31a-f98a584b442b",
   "metadata": {},
   "outputs": [
    {
     "data": {
      "text/plain": [
       "500     LOS ANGELES\n",
       "1291     STANISLAUS\n",
       "4227         SONOMA\n",
       "4101      MENDOCINO\n",
       "2423          KINGS\n",
       "Name: COUNTY, dtype: object"
      ]
     },
     "execution_count": 8,
     "metadata": {},
     "output_type": "execute_result"
    }
   ],
   "source": [
    "# COUNTY stands for the water sytems's county-level location (obviously)\n",
    "water_systems.COUNTY.sample(5)"
   ]
  },
  {
   "cell_type": "code",
   "execution_count": 9,
   "id": "65238a87-5417-403e-9945-834650c395ff",
   "metadata": {},
   "outputs": [
    {
     "data": {
      "text/plain": [
       "792                       COMMUNITY\n",
       "2590                      COMMUNITY\n",
       "1685                      COMMUNITY\n",
       "820     NON-TRANSIENT NON-COMMUNITY\n",
       "46                        COMMUNITY\n",
       "Name: FEDERAL_CL, dtype: object"
      ]
     },
     "execution_count": 9,
     "metadata": {},
     "output_type": "execute_result"
    }
   ],
   "source": [
    "# FEDERAL_CL stands for federal classification. In the eyes of the feds, what kind of water system is this? \n",
    "# Most water systems are so-called Community Water Systems\n",
    "water_systems.FEDERAL_CL.sample(5)"
   ]
  },
  {
   "cell_type": "markdown",
   "id": "e37e2cb0-231d-4276-a0e5-a615c8db3a38",
   "metadata": {},
   "source": [
    "Based on my sampling, I want to look more closely at the federal classification variable (FEDERAL_CL). I'm going to look more closely at that variable with the `value_counts()` command. "
   ]
  },
  {
   "cell_type": "code",
   "execution_count": 10,
   "id": "8caffdd5-345c-44bb-9840-692310c3c9ca",
   "metadata": {},
   "outputs": [
    {
     "data": {
      "text/plain": [
       "FEDERAL_CL\n",
       "COMMUNITY                      2796\n",
       "TRANSIENT NON-COMMUNITY        1243\n",
       "NON-TRANSIENT NON-COMMUNITY     686\n",
       "NON-PUBLIC                       83\n",
       "Name: count, dtype: int64"
      ]
     },
     "execution_count": 10,
     "metadata": {},
     "output_type": "execute_result"
    }
   ],
   "source": [
    "water_systems.FEDERAL_CL.value_counts()"
   ]
  },
  {
   "cell_type": "markdown",
   "id": "c8df6d28-9c8f-4a57-9618-fe841ff46a32",
   "metadata": {},
   "source": [
    "As I said above, the majority of California water systems are Community Water Systems."
   ]
  },
  {
   "cell_type": "markdown",
   "id": "1274d35f-39fd-4300-828e-e1fba1463f2a",
   "metadata": {},
   "source": [
    "## Visualizing the data"
   ]
  },
  {
   "cell_type": "markdown",
   "id": "7f3351ca-db54-41b8-867d-b69c875572ff",
   "metadata": {},
   "source": [
    "I want to visualize the breakdown of water system types. In order to do that, I need to go through a few preparatory steps. "
   ]
  },
  {
   "cell_type": "code",
   "execution_count": 46,
   "id": "db9ab53b-e733-4255-863c-f54f38181180",
   "metadata": {},
   "outputs": [
    {
     "data": {
      "text/plain": [
       "FEDERAL_CL\n",
       "COMMUNITY                      2796\n",
       "TRANSIENT NON-COMMUNITY        1243\n",
       "NON-TRANSIENT NON-COMMUNITY     686\n",
       "NON-PUBLIC                       83\n",
       "Name: count, dtype: int64"
      ]
     },
     "execution_count": 46,
     "metadata": {},
     "output_type": "execute_result"
    }
   ],
   "source": [
    "# this code creates a variable out of the federal classification column\n",
    "systemType_count = water_systems.FEDERAL_CL.value_counts()\n",
    "systemType_count"
   ]
  },
  {
   "cell_type": "code",
   "execution_count": 47,
   "id": "51df728c-bd8b-4fd9-8a5d-1630b35b8beb",
   "metadata": {},
   "outputs": [
    {
     "data": {
      "text/plain": [
       "pandas.core.series.Series"
      ]
     },
     "execution_count": 47,
     "metadata": {},
     "output_type": "execute_result"
    }
   ],
   "source": [
    "# here I'm checking the new variable's data type\n",
    "type(systemType_count)"
   ]
  },
  {
   "cell_type": "markdown",
   "id": "b0bfba66-96db-4f05-809d-ab94207af942",
   "metadata": {},
   "source": [
    "This will not do. In order to create a table, the variable must be converted to the dataframe format."
   ]
  },
  {
   "cell_type": "code",
   "execution_count": 48,
   "id": "8d658ee5-9aeb-45da-81a2-6e95e040f741",
   "metadata": {},
   "outputs": [
    {
     "data": {
      "text/html": [
       "<div>\n",
       "<style scoped>\n",
       "    .dataframe tbody tr th:only-of-type {\n",
       "        vertical-align: middle;\n",
       "    }\n",
       "\n",
       "    .dataframe tbody tr th {\n",
       "        vertical-align: top;\n",
       "    }\n",
       "\n",
       "    .dataframe thead th {\n",
       "        text-align: right;\n",
       "    }\n",
       "</style>\n",
       "<table border=\"1\" class=\"dataframe\">\n",
       "  <thead>\n",
       "    <tr style=\"text-align: right;\">\n",
       "      <th></th>\n",
       "      <th>FEDERAL_CL</th>\n",
       "      <th>count</th>\n",
       "    </tr>\n",
       "  </thead>\n",
       "  <tbody>\n",
       "    <tr>\n",
       "      <th>0</th>\n",
       "      <td>COMMUNITY</td>\n",
       "      <td>2796</td>\n",
       "    </tr>\n",
       "    <tr>\n",
       "      <th>1</th>\n",
       "      <td>TRANSIENT NON-COMMUNITY</td>\n",
       "      <td>1243</td>\n",
       "    </tr>\n",
       "    <tr>\n",
       "      <th>2</th>\n",
       "      <td>NON-TRANSIENT NON-COMMUNITY</td>\n",
       "      <td>686</td>\n",
       "    </tr>\n",
       "    <tr>\n",
       "      <th>3</th>\n",
       "      <td>NON-PUBLIC</td>\n",
       "      <td>83</td>\n",
       "    </tr>\n",
       "  </tbody>\n",
       "</table>\n",
       "</div>"
      ],
      "text/plain": [
       "                    FEDERAL_CL  count\n",
       "0                    COMMUNITY   2796\n",
       "1      TRANSIENT NON-COMMUNITY   1243\n",
       "2  NON-TRANSIENT NON-COMMUNITY    686\n",
       "3                   NON-PUBLIC     83"
      ]
     },
     "execution_count": 48,
     "metadata": {},
     "output_type": "execute_result"
    }
   ],
   "source": [
    "# this function converts the series into a dataframe\n",
    "systemType_count = systemType_count.reset_index()\n",
    "systemType_count"
   ]
  },
  {
   "cell_type": "code",
   "execution_count": 49,
   "id": "53e4cdd2-eb96-4f27-9386-ee37f7756204",
   "metadata": {},
   "outputs": [
    {
     "data": {
      "text/plain": [
       "pandas.core.frame.DataFrame"
      ]
     },
     "execution_count": 49,
     "metadata": {},
     "output_type": "execute_result"
    }
   ],
   "source": [
    "# here I check to make sure that the data conversion worked\n",
    "type(systemType_count)"
   ]
  },
  {
   "cell_type": "markdown",
   "id": "f698b3d6-143e-4415-804e-709619afca45",
   "metadata": {},
   "source": [
    "Now that I've converted my variable of interest into a dataframe, I can visualize it.  "
   ]
  },
  {
   "cell_type": "code",
   "execution_count": 45,
   "id": "075e3cc7-dfa2-4ed8-b21a-929ea2fdac57",
   "metadata": {},
   "outputs": [
    {
     "data": {
      "text/plain": [
       "<Axes: >"
      ]
     },
     "execution_count": 45,
     "metadata": {},
     "output_type": "execute_result"
    },
    {
     "data": {
      "image/png": "[encoded data removed]",
      "text/plain": [
       "<Figure size 640x480 with 1 Axes>"
      ]
     },
     "metadata": {},
     "output_type": "display_data"
    }
   ],
   "source": [
    "systemType_count.plot()"
   ]
  },
  {
   "cell_type": "markdown",
   "id": "90b9f5ff-aff5-4e01-90a4-c8f9c0a1cd30",
   "metadata": {},
   "source": [
    "This isn't especially helpful. For one, there are no labels. Second, a breakdown of water system types doesn't lend itself to a line chart. So I'll plot it as a bar chart insted"
   ]
  },
  {
   "cell_type": "code",
   "execution_count": 22,
   "id": "30ef6517-c181-4d7b-ba6b-52340eb707dc",
   "metadata": {},
   "outputs": [
    {
     "data": {
      "text/plain": [
       "<Axes: >"
      ]
     },
     "execution_count": 22,
     "metadata": {},
     "output_type": "execute_result"
    },
    {
     "data": {
      "image/png": "[encoded data removed]",
      "text/plain": [
       "<Figure size 640x480 with 1 Axes>"
      ]
     },
     "metadata": {},
     "output_type": "display_data"
    }
   ],
   "source": [
    "# this is the same function as above, but it specifies that I want a bar chart rather than the default line graph\n",
    "systemType_count.plot(kind=\"bar\")"
   ]
  },
  {
   "cell_type": "markdown",
   "id": "c311b25b-be60-4dab-a700-f2beada2b2f9",
   "metadata": {},
   "source": [
    "That worked, but this is still pretty unhelpful, because the chart has no labels. In the next few blocks, I'm going to clean up the dataframe a bit so that the chart makes more sense. "
   ]
  },
  {
   "cell_type": "code",
   "execution_count": 50,
   "id": "ade54a9f-90c1-4b06-bbbc-59e7e0cfdf5f",
   "metadata": {},
   "outputs": [
    {
     "data": {
      "text/html": [
       "<div>\n",
       "<style scoped>\n",
       "    .dataframe tbody tr th:only-of-type {\n",
       "        vertical-align: middle;\n",
       "    }\n",
       "\n",
       "    .dataframe tbody tr th {\n",
       "        vertical-align: top;\n",
       "    }\n",
       "\n",
       "    .dataframe thead th {\n",
       "        text-align: right;\n",
       "    }\n",
       "</style>\n",
       "<table border=\"1\" class=\"dataframe\">\n",
       "  <thead>\n",
       "    <tr style=\"text-align: right;\">\n",
       "      <th></th>\n",
       "      <th>FEDERAL_CL</th>\n",
       "      <th>count</th>\n",
       "    </tr>\n",
       "  </thead>\n",
       "  <tbody>\n",
       "    <tr>\n",
       "      <th>0</th>\n",
       "      <td>COMMUNITY</td>\n",
       "      <td>2796</td>\n",
       "    </tr>\n",
       "    <tr>\n",
       "      <th>1</th>\n",
       "      <td>TRANSIENT NON-COMMUNITY</td>\n",
       "      <td>1243</td>\n",
       "    </tr>\n",
       "    <tr>\n",
       "      <th>2</th>\n",
       "      <td>NON-TRANSIENT NON-COMMUNITY</td>\n",
       "      <td>686</td>\n",
       "    </tr>\n",
       "    <tr>\n",
       "      <th>3</th>\n",
       "      <td>NON-PUBLIC</td>\n",
       "      <td>83</td>\n",
       "    </tr>\n",
       "  </tbody>\n",
       "</table>\n",
       "</div>"
      ],
      "text/plain": [
       "                    FEDERAL_CL  count\n",
       "0                    COMMUNITY   2796\n",
       "1      TRANSIENT NON-COMMUNITY   1243\n",
       "2  NON-TRANSIENT NON-COMMUNITY    686\n",
       "3                   NON-PUBLIC     83"
      ]
     },
     "execution_count": 50,
     "metadata": {},
     "output_type": "execute_result"
    }
   ],
   "source": [
    "# first, I want to remind myself what the dataframe looks like\n",
    "systemType_count"
   ]
  },
  {
   "cell_type": "markdown",
   "id": "cb0dd6d4-bfaf-477a-aec1-da6d55d41a82",
   "metadata": {},
   "source": [
    "With that reminder, I can add labels to my bar chart. "
   ]
  },
  {
   "cell_type": "code",
   "execution_count": 27,
   "id": "7729b505-fc3a-4571-b9d9-7385a64c24e6",
   "metadata": {},
   "outputs": [
    {
     "data": {
      "text/plain": [
       "<Axes: xlabel='FEDERAL_CL'>"
      ]
     },
     "execution_count": 27,
     "metadata": {},
     "output_type": "execute_result"
    },
    {
     "data": {
      "image/png": "[encoded data removed]",
      "text/plain": [
       "<Figure size 640x480 with 1 Axes>"
      ]
     },
     "metadata": {},
     "output_type": "display_data"
    }
   ],
   "source": [
    "systemType_count.plot(x = 'FEDERAL_CL', y = 'count', kind = 'bar')"
   ]
  },
  {
   "cell_type": "markdown",
   "id": "b9295b65-b712-450e-80b9-3e93e778fd66",
   "metadata": {},
   "source": [
    "This could still use some improving. The FEDERAL_CL and count names are not that user-friendly. "
   ]
  },
  {
   "cell_type": "code",
   "execution_count": 51,
   "id": "afbdd878-8df1-4b04-b06b-c26ca3a35072",
   "metadata": {},
   "outputs": [
    {
     "data": {
      "text/plain": [
       "Index(['Federal Classification', 'Number of Systems'], dtype='object')"
      ]
     },
     "execution_count": 51,
     "metadata": {},
     "output_type": "execute_result"
    }
   ],
   "source": [
    "# here I spruce up the column names\n",
    "systemType_count.columns = ['Federal Classification', 'Number of Systems']\n",
    "systemType_count.columns"
   ]
  },
  {
   "cell_type": "code",
   "execution_count": 54,
   "id": "b08976c5-98ec-4585-b01e-165771652934",
   "metadata": {},
   "outputs": [
    {
     "data": {
      "text/plain": [
       "<Axes: xlabel='Federal Classification'>"
      ]
     },
     "execution_count": 54,
     "metadata": {},
     "output_type": "execute_result"
    },
    {
     "data": {
      "image/png": "[encoded data removed]",
      "text/plain": [
       "<Figure size 640x480 with 1 Axes>"
      ]
     },
     "metadata": {},
     "output_type": "display_data"
    }
   ],
   "source": [
    "# then, with the new column names, I remake the bar chart \n",
    "systemType_count.plot(x = 'Federal Classification', y = 'Number of Systems', kind = 'bar')"
   ]
  },
  {
   "cell_type": "markdown",
   "id": "76484a32-e1eb-46fb-9e7b-b39dfb1378d5",
   "metadata": {},
   "source": [
    "## Filtering the data"
   ]
  },
  {
   "cell_type": "markdown",
   "id": "1af69bb1-c2c1-41e5-9dd9-8c36da0b1e3a",
   "metadata": {},
   "source": [
    "The above chart helps me see that the least common type of water system in Califronia is the NON-PUBLIC type. This is shorthand for very small water systems that include private wells. Data on these systems is sparse; we can assume there are far more of them in California than this dataset tell us. "
   ]
  },
  {
   "cell_type": "markdown",
   "id": "384539e1-72a9-4cb2-bcfd-59e9583bce31",
   "metadata": {},
   "source": [
    "I want a list of these systems, so I'm going to use `loc`to generate one."
   ]
  },
  {
   "cell_type": "code",
   "execution_count": 55,
   "id": "2703329c-2715-46e3-8762-cb0117b13e4f",
   "metadata": {},
   "outputs": [
    {
     "data": {
      "text/html": [
       "<div>\n",
       "<style scoped>\n",
       "    .dataframe tbody tr th:only-of-type {\n",
       "        vertical-align: middle;\n",
       "    }\n",
       "\n",
       "    .dataframe tbody tr th {\n",
       "        vertical-align: top;\n",
       "    }\n",
       "\n",
       "    .dataframe thead th {\n",
       "        text-align: right;\n",
       "    }\n",
       "</style>\n",
       "<table border=\"1\" class=\"dataframe\">\n",
       "  <thead>\n",
       "    <tr style=\"text-align: right;\">\n",
       "      <th></th>\n",
       "      <th>OBJECTID_1</th>\n",
       "      <th>SABL_PWSID</th>\n",
       "      <th>BOUNDARY_T</th>\n",
       "      <th>WATER_SYST</th>\n",
       "      <th>WATER_SY_1</th>\n",
       "      <th>CREATED_US</th>\n",
       "      <th>CREATED_DA</th>\n",
       "      <th>LAST_EDITE</th>\n",
       "      <th>LAST_EDI_1</th>\n",
       "      <th>OBJECTID</th>\n",
       "      <th>...</th>\n",
       "      <th>AC_PHONE_N</th>\n",
       "      <th>AC_EMAIL</th>\n",
       "      <th>BOUNDARY_F</th>\n",
       "      <th>DT_VERIFIE</th>\n",
       "      <th>VERIFIED_S</th>\n",
       "      <th>VERIFIED_N</th>\n",
       "      <th>VERIFIED_T</th>\n",
       "      <th>Shape__Are</th>\n",
       "      <th>Shape__Len</th>\n",
       "      <th>geometry</th>\n",
       "    </tr>\n",
       "  </thead>\n",
       "  <tbody>\n",
       "    <tr>\n",
       "      <th>1</th>\n",
       "      <td>2853276</td>\n",
       "      <td>CA3200054</td>\n",
       "      <td>Water Service Area</td>\n",
       "      <td>CA3200054</td>\n",
       "      <td>BIG MEADOWS SUBDIVISION</td>\n",
       "      <td>SBUCKNAM</td>\n",
       "      <td>2020-10-20</td>\n",
       "      <td>SBUCKNAM</td>\n",
       "      <td>2020-10-20</td>\n",
       "      <td>134</td>\n",
       "      <td>...</td>\n",
       "      <td>530-518-4956</td>\n",
       "      <td>None</td>\n",
       "      <td>WBT Tool</td>\n",
       "      <td>NaT</td>\n",
       "      <td>Not Verified</td>\n",
       "      <td>None</td>\n",
       "      <td>None</td>\n",
       "      <td>3.306788e+05</td>\n",
       "      <td>2164.953699</td>\n",
       "      <td>POLYGON ((-13483560.663 4893674.133, -13483495...</td>\n",
       "    </tr>\n",
       "    <tr>\n",
       "      <th>75</th>\n",
       "      <td>2853355</td>\n",
       "      <td>CA4500038</td>\n",
       "      <td>Water Service Area</td>\n",
       "      <td>CA4500038</td>\n",
       "      <td>DARRAH SPRINGS FISH HATCHERY</td>\n",
       "      <td>SBUCKNAM</td>\n",
       "      <td>2020-10-20</td>\n",
       "      <td>SBUCKNAM</td>\n",
       "      <td>2020-10-20</td>\n",
       "      <td>37</td>\n",
       "      <td>...</td>\n",
       "      <td>530-474-3141</td>\n",
       "      <td>george.parker@wildlife.ca.gov</td>\n",
       "      <td>WBT Tool</td>\n",
       "      <td>2019-09-02</td>\n",
       "      <td>Verified</td>\n",
       "      <td>K. Connaughton</td>\n",
       "      <td>District / LPA staff member</td>\n",
       "      <td>5.796787e+05</td>\n",
       "      <td>3275.300897</td>\n",
       "      <td>POLYGON ((-13581030.047 4928388.599, -13581032...</td>\n",
       "    </tr>\n",
       "    <tr>\n",
       "      <th>139</th>\n",
       "      <td>2853423</td>\n",
       "      <td>CA0900663</td>\n",
       "      <td>Water Service Area</td>\n",
       "      <td>CA0900663</td>\n",
       "      <td>SOUTH ECHO SUMMIT TRACT CIVIC</td>\n",
       "      <td>SBUCKNAM</td>\n",
       "      <td>2020-10-20</td>\n",
       "      <td>SBUCKNAM</td>\n",
       "      <td>2020-10-20</td>\n",
       "      <td>119</td>\n",
       "      <td>...</td>\n",
       "      <td>916-383-1215</td>\n",
       "      <td>SPKJPORTO@SOFTCOM.NET</td>\n",
       "      <td>WBT Tool</td>\n",
       "      <td>NaT</td>\n",
       "      <td>Not Verified</td>\n",
       "      <td>None</td>\n",
       "      <td>None</td>\n",
       "      <td>1.032658e+06</td>\n",
       "      <td>5141.125647</td>\n",
       "      <td>POLYGON ((-13363479.629 4696596.654, -13363754...</td>\n",
       "    </tr>\n",
       "    <tr>\n",
       "      <th>141</th>\n",
       "      <td>2859873</td>\n",
       "      <td>CA0790007</td>\n",
       "      <td>Water Service Area</td>\n",
       "      <td>CA0790007</td>\n",
       "      <td>MT. VIEW SANITARY DISTRICT</td>\n",
       "      <td>SBUCKNAM</td>\n",
       "      <td>2020-10-20</td>\n",
       "      <td>SBUCKNAM</td>\n",
       "      <td>2020-10-20</td>\n",
       "      <td>121</td>\n",
       "      <td>...</td>\n",
       "      <td>None</td>\n",
       "      <td>None</td>\n",
       "      <td>WBT Tool</td>\n",
       "      <td>NaT</td>\n",
       "      <td>Not Verified</td>\n",
       "      <td>None</td>\n",
       "      <td>None</td>\n",
       "      <td>5.097764e+06</td>\n",
       "      <td>14544.970287</td>\n",
       "      <td>POLYGON ((-13594341.782 4584183.347, -13594145...</td>\n",
       "    </tr>\n",
       "    <tr>\n",
       "      <th>147</th>\n",
       "      <td>2859881</td>\n",
       "      <td>CA3301643</td>\n",
       "      <td>Water Service Area</td>\n",
       "      <td>CA3301643</td>\n",
       "      <td>SPRING CREST WATER &amp; POWER</td>\n",
       "      <td>SBUCKNAM</td>\n",
       "      <td>2020-10-20</td>\n",
       "      <td>SBUCKNAM</td>\n",
       "      <td>2020-10-20</td>\n",
       "      <td>129</td>\n",
       "      <td>...</td>\n",
       "      <td>None</td>\n",
       "      <td>None</td>\n",
       "      <td>WBT Tool</td>\n",
       "      <td>NaT</td>\n",
       "      <td>Not Verified</td>\n",
       "      <td>None</td>\n",
       "      <td>None</td>\n",
       "      <td>2.005325e+06</td>\n",
       "      <td>6784.025596</td>\n",
       "      <td>POLYGON ((-12968932.048 3971644.102, -12968241...</td>\n",
       "    </tr>\n",
       "    <tr>\n",
       "      <th>...</th>\n",
       "      <td>...</td>\n",
       "      <td>...</td>\n",
       "      <td>...</td>\n",
       "      <td>...</td>\n",
       "      <td>...</td>\n",
       "      <td>...</td>\n",
       "      <td>...</td>\n",
       "      <td>...</td>\n",
       "      <td>...</td>\n",
       "      <td>...</td>\n",
       "      <td>...</td>\n",
       "      <td>...</td>\n",
       "      <td>...</td>\n",
       "      <td>...</td>\n",
       "      <td>...</td>\n",
       "      <td>...</td>\n",
       "      <td>...</td>\n",
       "      <td>...</td>\n",
       "      <td>...</td>\n",
       "      <td>...</td>\n",
       "      <td>...</td>\n",
       "    </tr>\n",
       "    <tr>\n",
       "      <th>4237</th>\n",
       "      <td>2864304</td>\n",
       "      <td>CA2210919</td>\n",
       "      <td>Water Service Area</td>\n",
       "      <td>CA2210919</td>\n",
       "      <td>MIDPINES TIMBER MOBILE HOME PARK SSW/04</td>\n",
       "      <td>SBUCKNAM</td>\n",
       "      <td>2020-10-20</td>\n",
       "      <td>SBUCKNAM</td>\n",
       "      <td>2020-10-20</td>\n",
       "      <td>224</td>\n",
       "      <td>...</td>\n",
       "      <td>831-758-2242</td>\n",
       "      <td>ALABBOTTENT1019@AOL.COM</td>\n",
       "      <td>WBT Tool</td>\n",
       "      <td>NaT</td>\n",
       "      <td>Not Verified</td>\n",
       "      <td>None</td>\n",
       "      <td>None</td>\n",
       "      <td>5.227884e+04</td>\n",
       "      <td>981.882475</td>\n",
       "      <td>POLYGON ((-13350028.331 4516339.89, -13350018....</td>\n",
       "    </tr>\n",
       "    <tr>\n",
       "      <th>4281</th>\n",
       "      <td>2864351</td>\n",
       "      <td>CA3601034</td>\n",
       "      <td>Water Service Area</td>\n",
       "      <td>CA3601034</td>\n",
       "      <td>VISTA WATER COMPANY</td>\n",
       "      <td>SBUCKNAM</td>\n",
       "      <td>2020-10-20</td>\n",
       "      <td>SBUCKNAM</td>\n",
       "      <td>2020-10-20</td>\n",
       "      <td>2671</td>\n",
       "      <td>...</td>\n",
       "      <td>909-580-0749</td>\n",
       "      <td>daniellehoxie@gmail.com</td>\n",
       "      <td>WBT Tool</td>\n",
       "      <td>NaT</td>\n",
       "      <td>Not Verified</td>\n",
       "      <td>None</td>\n",
       "      <td>None</td>\n",
       "      <td>1.220088e+05</td>\n",
       "      <td>1639.405203</td>\n",
       "      <td>POLYGON ((-13054975.06 4032757.896, -13054971....</td>\n",
       "    </tr>\n",
       "    <tr>\n",
       "      <th>4363</th>\n",
       "      <td>2864438</td>\n",
       "      <td>CA0400041</td>\n",
       "      <td>Water Service Area</td>\n",
       "      <td>CA0400041</td>\n",
       "      <td>FOREST RANCH MOBILE PARK</td>\n",
       "      <td>SBUCKNAM</td>\n",
       "      <td>2020-10-20</td>\n",
       "      <td>SBUCKNAM</td>\n",
       "      <td>2020-10-20</td>\n",
       "      <td>1020</td>\n",
       "      <td>...</td>\n",
       "      <td>405-569-7545</td>\n",
       "      <td>jose_oseguera@yahoo.com</td>\n",
       "      <td>WBT Tool</td>\n",
       "      <td>NaT</td>\n",
       "      <td>Not Verified</td>\n",
       "      <td>None</td>\n",
       "      <td>None</td>\n",
       "      <td>2.913077e+04</td>\n",
       "      <td>699.876286</td>\n",
       "      <td>POLYGON ((-13544945.129 4847824.908, -13544831...</td>\n",
       "    </tr>\n",
       "    <tr>\n",
       "      <th>4394</th>\n",
       "      <td>2864472</td>\n",
       "      <td>CA0790002</td>\n",
       "      <td>Water Service Area</td>\n",
       "      <td>CA0790002</td>\n",
       "      <td>CENTRAL CONTRA COSTA SANITARY DISTRICT</td>\n",
       "      <td>SBUCKNAM</td>\n",
       "      <td>2020-10-20</td>\n",
       "      <td>SBUCKNAM</td>\n",
       "      <td>2020-10-20</td>\n",
       "      <td>4165</td>\n",
       "      <td>...</td>\n",
       "      <td>None</td>\n",
       "      <td>dfrost@centralsan.org</td>\n",
       "      <td>WBT Tool</td>\n",
       "      <td>NaT</td>\n",
       "      <td>Not Verified</td>\n",
       "      <td>None</td>\n",
       "      <td>None</td>\n",
       "      <td>4.173590e+05</td>\n",
       "      <td>2684.038563</td>\n",
       "      <td>POLYGON ((-13588662.261 4578829.686, -13588806...</td>\n",
       "    </tr>\n",
       "    <tr>\n",
       "      <th>4395</th>\n",
       "      <td>2864473</td>\n",
       "      <td>CA5000371</td>\n",
       "      <td>Water Service Area</td>\n",
       "      <td>CA5000371</td>\n",
       "      <td>ROHDE ROAD APARTMENTS</td>\n",
       "      <td>SBUCKNAM</td>\n",
       "      <td>2020-10-20</td>\n",
       "      <td>SBUCKNAM</td>\n",
       "      <td>2020-10-20</td>\n",
       "      <td>3262</td>\n",
       "      <td>...</td>\n",
       "      <td>209-485-5166</td>\n",
       "      <td>PSAKSHI1@SBCGLOBAL.NET</td>\n",
       "      <td>WBT Tool</td>\n",
       "      <td>NaT</td>\n",
       "      <td>Not Verified</td>\n",
       "      <td>None</td>\n",
       "      <td>None</td>\n",
       "      <td>1.630142e+04</td>\n",
       "      <td>522.199653</td>\n",
       "      <td>POLYGON ((-13461504.368 4518310.915, -13461456...</td>\n",
       "    </tr>\n",
       "  </tbody>\n",
       "</table>\n",
       "<p>83 rows × 35 columns</p>\n",
       "</div>"
      ],
      "text/plain": [
       "      OBJECTID_1 SABL_PWSID          BOUNDARY_T WATER_SYST  \\\n",
       "1        2853276  CA3200054  Water Service Area  CA3200054   \n",
       "75       2853355  CA4500038  Water Service Area  CA4500038   \n",
       "139      2853423  CA0900663  Water Service Area  CA0900663   \n",
       "141      2859873  CA0790007  Water Service Area  CA0790007   \n",
       "147      2859881  CA3301643  Water Service Area  CA3301643   \n",
       "...          ...        ...                 ...        ...   \n",
       "4237     2864304  CA2210919  Water Service Area  CA2210919   \n",
       "4281     2864351  CA3601034  Water Service Area  CA3601034   \n",
       "4363     2864438  CA0400041  Water Service Area  CA0400041   \n",
       "4394     2864472  CA0790002  Water Service Area  CA0790002   \n",
       "4395     2864473  CA5000371  Water Service Area  CA5000371   \n",
       "\n",
       "                                   WATER_SY_1 CREATED_US CREATED_DA  \\\n",
       "1                     BIG MEADOWS SUBDIVISION   SBUCKNAM 2020-10-20   \n",
       "75               DARRAH SPRINGS FISH HATCHERY   SBUCKNAM 2020-10-20   \n",
       "139             SOUTH ECHO SUMMIT TRACT CIVIC   SBUCKNAM 2020-10-20   \n",
       "141                MT. VIEW SANITARY DISTRICT   SBUCKNAM 2020-10-20   \n",
       "147                SPRING CREST WATER & POWER   SBUCKNAM 2020-10-20   \n",
       "...                                       ...        ...        ...   \n",
       "4237  MIDPINES TIMBER MOBILE HOME PARK SSW/04   SBUCKNAM 2020-10-20   \n",
       "4281                      VISTA WATER COMPANY   SBUCKNAM 2020-10-20   \n",
       "4363                 FOREST RANCH MOBILE PARK   SBUCKNAM 2020-10-20   \n",
       "4394   CENTRAL CONTRA COSTA SANITARY DISTRICT   SBUCKNAM 2020-10-20   \n",
       "4395                    ROHDE ROAD APARTMENTS   SBUCKNAM 2020-10-20   \n",
       "\n",
       "     LAST_EDITE LAST_EDI_1  OBJECTID  ...    AC_PHONE_N  \\\n",
       "1      SBUCKNAM 2020-10-20       134  ...  530-518-4956   \n",
       "75     SBUCKNAM 2020-10-20        37  ...  530-474-3141   \n",
       "139    SBUCKNAM 2020-10-20       119  ...  916-383-1215   \n",
       "141    SBUCKNAM 2020-10-20       121  ...          None   \n",
       "147    SBUCKNAM 2020-10-20       129  ...          None   \n",
       "...         ...        ...       ...  ...           ...   \n",
       "4237   SBUCKNAM 2020-10-20       224  ...  831-758-2242   \n",
       "4281   SBUCKNAM 2020-10-20      2671  ...  909-580-0749   \n",
       "4363   SBUCKNAM 2020-10-20      1020  ...  405-569-7545   \n",
       "4394   SBUCKNAM 2020-10-20      4165  ...          None   \n",
       "4395   SBUCKNAM 2020-10-20      3262  ...  209-485-5166   \n",
       "\n",
       "                           AC_EMAIL BOUNDARY_F DT_VERIFIE    VERIFIED_S  \\\n",
       "1                              None   WBT Tool        NaT  Not Verified   \n",
       "75    george.parker@wildlife.ca.gov   WBT Tool 2019-09-02      Verified   \n",
       "139           SPKJPORTO@SOFTCOM.NET   WBT Tool        NaT  Not Verified   \n",
       "141                            None   WBT Tool        NaT  Not Verified   \n",
       "147                            None   WBT Tool        NaT  Not Verified   \n",
       "...                             ...        ...        ...           ...   \n",
       "4237        ALABBOTTENT1019@AOL.COM   WBT Tool        NaT  Not Verified   \n",
       "4281        daniellehoxie@gmail.com   WBT Tool        NaT  Not Verified   \n",
       "4363        jose_oseguera@yahoo.com   WBT Tool        NaT  Not Verified   \n",
       "4394          dfrost@centralsan.org   WBT Tool        NaT  Not Verified   \n",
       "4395         PSAKSHI1@SBCGLOBAL.NET   WBT Tool        NaT  Not Verified   \n",
       "\n",
       "          VERIFIED_N                   VERIFIED_T    Shape__Are    Shape__Len  \\\n",
       "1               None                         None  3.306788e+05   2164.953699   \n",
       "75    K. Connaughton  District / LPA staff member  5.796787e+05   3275.300897   \n",
       "139             None                         None  1.032658e+06   5141.125647   \n",
       "141             None                         None  5.097764e+06  14544.970287   \n",
       "147             None                         None  2.005325e+06   6784.025596   \n",
       "...              ...                          ...           ...           ...   \n",
       "4237            None                         None  5.227884e+04    981.882475   \n",
       "4281            None                         None  1.220088e+05   1639.405203   \n",
       "4363            None                         None  2.913077e+04    699.876286   \n",
       "4394            None                         None  4.173590e+05   2684.038563   \n",
       "4395            None                         None  1.630142e+04    522.199653   \n",
       "\n",
       "                                               geometry  \n",
       "1     POLYGON ((-13483560.663 4893674.133, -13483495...  \n",
       "75    POLYGON ((-13581030.047 4928388.599, -13581032...  \n",
       "139   POLYGON ((-13363479.629 4696596.654, -13363754...  \n",
       "141   POLYGON ((-13594341.782 4584183.347, -13594145...  \n",
       "147   POLYGON ((-12968932.048 3971644.102, -12968241...  \n",
       "...                                                 ...  \n",
       "4237  POLYGON ((-13350028.331 4516339.89, -13350018....  \n",
       "4281  POLYGON ((-13054975.06 4032757.896, -13054971....  \n",
       "4363  POLYGON ((-13544945.129 4847824.908, -13544831...  \n",
       "4394  POLYGON ((-13588662.261 4578829.686, -13588806...  \n",
       "4395  POLYGON ((-13461504.368 4518310.915, -13461456...  \n",
       "\n",
       "[83 rows x 35 columns]"
      ]
     },
     "execution_count": 55,
     "metadata": {},
     "output_type": "execute_result"
    }
   ],
   "source": [
    "water_systems.loc[water_systems['FEDERAL_CL'] == 'NON-PUBLIC']"
   ]
  },
  {
   "cell_type": "markdown",
   "id": "e998be4a-5b14-4f8d-ac92-750064e41631",
   "metadata": {},
   "source": [
    "And there's a somewhat handy list of non-public water systems in California. "
   ]
  }
 ],
 "metadata": {
  "kernelspec": {
   "display_name": "Python 3 (ipykernel)",
   "language": "python",
   "name": "python3"
  },
  "language_info": {
   "codemirror_mode": {
    "name": "ipython",
    "version": 3
   },
   "file_extension": ".py",
   "mimetype": "text/x-python",
   "name": "python",
   "nbconvert_exporter": "python",
   "pygments_lexer": "ipython3",
   "version": "3.11.9"
  }
 },
 "nbformat": 4,
 "nbformat_minor": 5
}
